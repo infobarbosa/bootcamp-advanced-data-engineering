{
	"cells": [
		{
			"cell_type": "markdown",
			"metadata": {
				"editable": true,
				"trusted": true
			},
			"source": [
				"# AWS Glue Studio Notebook\n",
				"\n",
				"Analise atentamente os comandos a seguir e execute-os em sequência.\n",
				"\n",
				"Caso você não tenha familiaridade com Jupyter notebooks, aqui está um mini tutorial para começar:\n",
				"\n",
				"**Para executar células**: Um notebook é composto por células. Cada célula pode conter código Python ou texto formatado. Para executar o código em uma célula, clique na célula para selecioná-la, depois pressione `Shift+Enter`. O resultado do código será exibido abaixo da célula.\n",
				"\n",
				"**Para adicionar novas células**: Você pode adicionar novas células clicando no botão \"+\" na barra de ferramentas na parte superior. A nova célula será adicionada abaixo da célula atualmente selecionada.\n",
				"\n",
				"**Salvar o notebook**: Você pode salvar o notebook clicando no botão de **Save** na parte superior.\n",
				"\n",
				"**Interromper o notebook**: Se quiser sair, não esqueça de interromper o notebook utilizando o botão **Stop notebook**. Isso garante que os recursos alocados para o notebook sejam liberados e você não seja cobrado por isso."
			]
		},
		{
			"cell_type": "markdown",
			"metadata": {
				"editable": true,
				"trusted": true
			},
			"source": [
				"### 1. Iniciando uma sessão interativa.\n"
			]
		},
		{
			"cell_type": "code",
			"execution_count": null,
			"metadata": {
				"editable": true,
				"trusted": true,
				"vscode": {
					"languageId": "python_glue_session"
				}
			},
			"outputs": [],
			"source": [
				"%idle_timeout 2880\n",
				"%glue_version 4.0\n",
				"%worker_type G.1X\n",
				"%number_of_workers 5\n",
				"\n",
				"import sys\n",
				"import boto3\n",
				"import time\n",
				"from awsglue.transforms import *\n",
				"from pyspark.sql.functions import sum, col, desc\n",
				"from awsglue.utils import getResolvedOptions\n",
				"from pyspark.context import SparkContext\n",
				"from awsglue.context import GlueContext\n",
				"from awsglue.job import Job\n",
				"from awsglue.dynamicframe import DynamicFrame  \n",
				"\n",
				"print(\"Criando o contexto do Glue\")\n",
				"sc = SparkContext.getOrCreate()\n",
				"glueContext = GlueContext(sc)\n",
				"spark = glueContext.spark_session\n",
				"job = Job(glueContext)\n",
				"print(\"Contexto do Glue criado com sucesso\")"
			]
		},
		{
			"cell_type": "markdown",
			"metadata": {},
			"source": [
				"### 2. Definindo a variável de ambiente `s3_bucket`"
			]
		},
		{
			"cell_type": "code",
			"execution_count": null,
			"metadata": {
				"vscode": {
					"languageId": "plaintext"
				}
			},
			"outputs": [],
			"source": [
				"print(\"Definindo a variável s3_bucket que vamos utilizar ao longo do código\")\n",
				"s3_bucket = \"\"\n",
				"s3_client = boto3.client('s3')\n",
				"response = s3_client.list_buckets()\n",
				"\n",
				"for bucket in response['Buckets']:\n",
				"    if bucket['Name'].startswith('lab-data-eng-'):\n",
				"        s3_bucket = bucket['Name']\n",
				"\n",
				"print(\"O bucket que vamos utilizar é: \" + s3_bucket)"
			]
		},
		{
			"cell_type": "markdown",
			"metadata": {
				"editable": true,
				"trusted": true
			},
			"source": [
				"### 3. Criando um DynamicFrame a partir de uma tabela do Glue Data Catalog\n"
			]
		},
		{
			"cell_type": "markdown",
			"metadata": {},
			"source": [
				"#### Clientes"
			]
		},
		{
			"cell_type": "code",
			"execution_count": null,
			"metadata": {
				"vscode": {
					"languageId": "plaintext"
				}
			},
			"outputs": [],
			"source": [
				"dyfClientes = glueContext.create_dynamic_frame.from_catalog(database='ecommerce', table_name='tb_raw_clientes')"
			]
		},
		{
			"cell_type": "code",
			"execution_count": null,
			"metadata": {
				"vscode": {
					"languageId": "plaintext"
				}
			},
			"outputs": [],
			"source": [
				"dyfClientes.printSchema()"
			]
		},
		{
			"cell_type": "markdown",
			"metadata": {},
			"source": [
				"#### Pedidos\n",
				"\n",
				"Perceba que aqui estamos usando o mesmo banco de dados, mas agora estamos usando a tabela pedidos_part"
			]
		},
		{
			"cell_type": "code",
			"execution_count": null,
			"metadata": {
				"editable": true,
				"trusted": true,
				"vscode": {
					"languageId": "python_glue_session"
				}
			},
			"outputs": [],
			"source": [
				"dyfPedidos = glueContext.create_dynamic_frame.from_catalog(database='ecommerce', table_name='pedidos_part')"
			]
		},
		{
			"cell_type": "code",
			"execution_count": null,
			"metadata": {
				"vscode": {
					"languageId": "python_glue_session"
				}
			},
			"outputs": [],
			"source": [
				"dyfPedidos.printSchema()"
			]
		},
		{
			"cell_type": "markdown",
			"metadata": {
				"editable": true,
				"trusted": true
			},
			"source": [
				"### 4. Convertendo o DynamicFrame para um Spark DataFrame e apresentando algumas linhas\n"
			]
		},
		{
			"cell_type": "markdown",
			"metadata": {},
			"source": [
				"#### Clientes"
			]
		},
		{
			"cell_type": "code",
			"execution_count": null,
			"metadata": {
				"vscode": {
					"languageId": "python_glue_session"
				}
			},
			"outputs": [],
			"source": [
				"dfCli = dyfClientes.toDF()\n",
				"dfCli.show(5)"
			]
		},
		{
			"cell_type": "markdown",
			"metadata": {},
			"source": [
				"#### Pedidos"
			]
		},
		{
			"cell_type": "code",
			"execution_count": null,
			"metadata": {
				"editable": true,
				"trusted": true,
				"vscode": {
					"languageId": "python_glue_session"
				}
			},
			"outputs": [],
			"source": [
				"dfPed = dyfPedidos.toDF()\n",
				"dfPed.show(5)"
			]
		},
		{
			"cell_type": "markdown",
			"metadata": {
				"editable": true,
				"trusted": true
			},
			"source": [
				"### 5. Escrevendo tabelas **Parquet** e atualizando o Glue Data Catalog"
			]
		},
		{
			"cell_type": "markdown",
			"metadata": {},
			"source": [
				"#### Clientes\n",
				"\n",
				"Perceba que agora estamos escrevendo uma tabela PARQUET em um novo path `stage/ecommerce/clientes/`"
			]
		},
		{
			"cell_type": "code",
			"execution_count": null,
			"metadata": {
				"vscode": {
					"languageId": "plaintext"
				}
			},
			"outputs": [],
			"source": [
				"# Primeiro vamos limpar a pasta destino\n",
				"response = s3_client.list_objects_v2(Bucket=s3_bucket, Prefix='stage/ecommerce/clientes/')\n",
				"\n",
				"for object in response['Contents']:\n",
				"    out = s3_client.delete_object(Bucket=s3_bucket, Key=object['Key'])"
			]
		},
		{
			"cell_type": "markdown",
			"metadata": {},
			"source": [
				"> Caso o comando acima retorne `KeyError: 'Contents'`, significa que a pasta já estava vazia."
			]
		},
		{
			"cell_type": "code",
			"execution_count": null,
			"metadata": {
				"vscode": {
					"languageId": "python_glue_session"
				}
			},
			"outputs": [],
			"source": [
				"s3output = glueContext.getSink(\n",
				"  path=\"s3://\" + s3_bucket + \"/stage/ecommerce/clientes/\",\n",
				"  connection_type=\"s3\",\n",
				"  updateBehavior=\"UPDATE_IN_DATABASE\",\n",
				"  partitionKeys=[],\n",
				"  compression=\"snappy\",\n",
				"  enableUpdateCatalog=True,\n",
				"  transformation_ctx=\"s3output\",\n",
				")\n",
				"s3output.setCatalogInfo(\n",
				"  catalogDatabase=\"ecommerce\", catalogTableName=\"clientes_parquet\"\n",
				")\n",
				"s3output.setFormat(\"glueparquet\")\n",
				"s3output.writeFrame(dyfClientes)"
			]
		},
		{
			"cell_type": "markdown",
			"metadata": {},
			"source": [
				"#### Pedidos\n",
				"\n",
				"Perceba que agora estamos escrevendo uma tabela PARQUET em um novo path `stage/ecommerce/pedidos/`"
			]
		},
		{
			"cell_type": "code",
			"execution_count": null,
			"metadata": {
				"vscode": {
					"languageId": "plaintext"
				}
			},
			"outputs": [],
			"source": [
				"# Primeiro vamos limpar a pasta destino\n",
				"response = s3_client.list_objects_v2(Bucket=s3_bucket, Prefix='stage/ecommerce/pedidos/')\n",
				"\n",
				"for object in response['Contents']:\n",
				"    out = s3_client.delete_object(Bucket=s3_bucket, Key=object['Key'])"
			]
		},
		{
			"cell_type": "markdown",
			"metadata": {},
			"source": [
				"> Caso o comando acima retorne `KeyError: 'Contents'`, significa que a pasta já estava vazia."
			]
		},
		{
			"cell_type": "code",
			"execution_count": null,
			"metadata": {
				"editable": true,
				"trusted": true,
				"vscode": {
					"languageId": "python_glue_session"
				}
			},
			"outputs": [],
			"source": [
				"s3output = glueContext.getSink(\n",
				"  path=\"s3://\" + s3_bucket + \"/stage/ecommerce/pedidos/\",\n",
				"  connection_type=\"s3\",\n",
				"  updateBehavior=\"UPDATE_IN_DATABASE\",\n",
				"  partitionKeys=[\"data_pedido\"],\n",
				"  compression=\"snappy\",\n",
				"  enableUpdateCatalog=True,\n",
				"  transformation_ctx=\"s3output\",\n",
				")\n",
				"s3output.setCatalogInfo(\n",
				"  catalogDatabase=\"ecommerce\", catalogTableName=\"pedidos_parquet\"\n",
				")\n",
				"s3output.setFormat(\"glueparquet\")\n",
				"s3output.writeFrame(dyfPedidos)"
			]
		},
		{
			"cell_type": "markdown",
			"metadata": {},
			"source": [
				"### 6. Verificando os arquivos Parquet gerados"
			]
		},
		{
			"cell_type": "code",
			"execution_count": null,
			"metadata": {
				"vscode": {
					"languageId": "plaintext"
				}
			},
			"outputs": [],
			"source": [
				"session = boto3.Session()\n",
				"s3 = session.resource('s3')\n",
				"lab_eng_bucket = s3.Bucket(s3_bucket)\n",
				"\n",
				"print(\"Arquivos de clientes em stage\")\n",
				"for clientes_object in lab_eng_bucket.objects.filter(Prefix=\"stage/ecommerce/clientes/\"):\n",
				"    print(clientes_object.key)\n",
				"\n",
				"print(\"Arquivos de pedidos em stage\")\n",
				"for pedidos_object in lab_eng_bucket.objects.filter(Prefix=\"stage/ecommerce/pedidos/\"):\n",
				"    print(pedidos_object.key)"
			]
		},
		{
			"cell_type": "markdown",
			"metadata": {},
			"source": [
				"### 7. Verificando a criação das tabelas `clientes_parquet` e `pedidos_parquet`\n",
				"\n",
				"> ##### Atenção!\n",
				"> Normalmente esse tipo de verificação visual não fica dentro do job. Neste laboratório só incluí por comodidade."
			]
		},
		{
			"cell_type": "code",
			"execution_count": null,
			"metadata": {
				"vscode": {
					"languageId": "plaintext"
				}
			},
			"outputs": [],
			"source": [
				"!aws glue get-tables --database-name 'ecommerce'  --query \"TableList[].Name\""
			]
		},
		{
			"cell_type": "markdown",
			"metadata": {},
			"source": [
				"### 8. E-mail TOP10 do dia"
			]
		},
		{
			"cell_type": "markdown",
			"metadata": {},
			"source": [
				"##### Criando os dynamicframes"
			]
		},
		{
			"cell_type": "code",
			"execution_count": null,
			"metadata": {
				"vscode": {
					"languageId": "plaintext"
				}
			},
			"outputs": [],
			"source": [
				"dyfClientes = glueContext.create_dynamic_frame.from_catalog(database='ecommerce', table_name='clientes_parquet')\n",
				"dyfClientes.printSchema()"
			]
		},
		{
			"cell_type": "code",
			"execution_count": null,
			"metadata": {
				"vscode": {
					"languageId": "plaintext"
				}
			},
			"outputs": [],
			"source": [
				"dyfClientes.toDF().show(5)"
			]
		},
		{
			"cell_type": "code",
			"execution_count": null,
			"metadata": {
				"vscode": {
					"languageId": "plaintext"
				}
			},
			"outputs": [],
			"source": [
				"data_pedido=\"2024-01-01\"\n",
				"dyfPedidos = glueContext.create_dynamic_frame.from_catalog(database='ecommerce', table_name='pedidos_parquet', push_down_predicate = \"data_pedido='\"+ data_pedido +\"'\")\n",
				"dyfPedidos.printSchema()"
			]
		},
		{
			"cell_type": "code",
			"execution_count": null,
			"metadata": {
				"vscode": {
					"languageId": "plaintext"
				}
			},
			"outputs": [],
			"source": [
				"dyfPedidos.toDF().show(5)"
			]
		},
		{
			"cell_type": "markdown",
			"metadata": {},
			"source": [
				"##### Tratamento do dataframe dyfClientes"
			]
		},
		{
			"cell_type": "code",
			"execution_count": null,
			"metadata": {
				"vscode": {
					"languageId": "plaintext"
				}
			},
			"outputs": [],
			"source": [
				"# Renomeando o atributo ID para evitar colisão com o outro dataset\n",
				"# Eliminando atributos desnecessários nesta operação\n",
				"dyfClientes = (\n",
				"    dyfClientes.drop_fields([\"cpf\",\"data_nasc\"])\n",
				"    .rename_field(\"id\", \"id_cli\")\n",
				")\n",
				"\n",
				"dyfClientes.toDF().show(5)"
			]
		},
		{
			"cell_type": "markdown",
			"metadata": {},
			"source": [
				"##### Tratamento do dataframe dyfPedidos"
			]
		},
		{
			"cell_type": "code",
			"execution_count": null,
			"metadata": {
				"vscode": {
					"languageId": "plaintext"
				}
			},
			"outputs": [],
			"source": [
				"#Eliminando atributo produto, desnecessário nesta operação\n",
				"dyfPedidos = dyfPedidos.drop_fields([\"produto\"])\n",
				"\n",
				"# Criando um novo atributo VALOR_TOTAL\n",
				"dfPedidos = dyfPedidos.toDF()\n",
				"dfPedidos = dfPedidos.withColumn(\"valor_total\", col(\"quantidade\") * col(\"valor_unitario\"))\n",
				"dyfPedidos = DynamicFrame.fromDF(dfPedidos, glueContext, \"dyfPedidos\")\n",
				"\n",
				"# Agora podemos eliminar os atributos quantidade e valor_unitario\n",
				"dyfPedidos = dyfPedidos.drop_fields([\"quantidade\", \"valor_unitario\"])"
			]
		},
		{
			"cell_type": "markdown",
			"metadata": {},
			"source": [
				"##### Join Clientes + Pedidos"
			]
		},
		{
			"cell_type": "code",
			"execution_count": null,
			"metadata": {
				"vscode": {
					"languageId": "plaintext"
				}
			},
			"outputs": [],
			"source": [
				"# Vamos fazer o join com dyfClientes para obter o nome e email dos clientes\n",
				"dyfClientesPedidos = dyfClientes.join(paths1=[\"id_cli\"], paths2=[\"id_cliente\"], frame2=dyfPedidos)"
			]
		},
		{
			"cell_type": "code",
			"execution_count": null,
			"metadata": {
				"vscode": {
					"languageId": "plaintext"
				}
			},
			"outputs": [],
			"source": [
				"dyfClientesPedidos.toDF().show(5)"
			]
		},
		{
			"cell_type": "markdown",
			"metadata": {},
			"source": [
				"##### Calculando os top 10 clientes em valor total de pedidos"
			]
		},
		{
			"cell_type": "code",
			"execution_count": null,
			"metadata": {
				"vscode": {
					"languageId": "plaintext"
				}
			},
			"outputs": [],
			"source": [
				"# Converte para dataframe\n",
				"dfClientesPedidos = dyfClientesPedidos.toDF()"
			]
		},
		{
			"cell_type": "code",
			"execution_count": null,
			"metadata": {
				"vscode": {
					"languageId": "plaintext"
				}
			},
			"outputs": [],
			"source": [
				"\n",
				"dfTop10 = dfClientesPedidos.groupBy(\"id_cliente\", \"nome\", \"email\") \\\n",
				"        .agg(sum(\"valor_total\").alias(\"tot\")) \\\n",
				"        .sort(desc(\"tot\")) \\\n",
				"        .limit(10)"
			]
		},
		{
			"cell_type": "markdown",
			"metadata": {},
			"source": [
				"##### Salvando o resultado em uma tabela `top_10_pedidos_dia` para reuso"
			]
		},
		{
			"cell_type": "code",
			"execution_count": null,
			"metadata": {
				"vscode": {
					"languageId": "plaintext"
				}
			},
			"outputs": [],
			"source": [
				"# Primeiro vamos limpar a pasta destino\n",
				"response = s3_client.list_objects_v2(Bucket=s3_bucket, Prefix='analytics/ecommerce/relatorios/top10pedidosdia/')\n",
				"\n",
				"for object in response['Contents']:\n",
				"    out = s3_client.delete_object(Bucket=s3_bucket, Key=object['Key'])"
			]
		},
		{
			"cell_type": "code",
			"execution_count": null,
			"metadata": {
				"vscode": {
					"languageId": "plaintext"
				}
			},
			"outputs": [],
			"source": [
				"dyfTop10 = DynamicFrame.fromDF(dfTop10, glueContext, \"dyfTop10\")\n",
				"\n",
				"s3output = glueContext.getSink(\n",
				"  path=\"s3://\" + s3_bucket + \"/analytics/ecommerce/relatorios/top10pedidosdia/\",\n",
				"  connection_type=\"s3\",\n",
				"  updateBehavior=\"UPDATE_IN_DATABASE\",\n",
				"  partitionKeys=[],\n",
				"  compression=\"snappy\",\n",
				"  enableUpdateCatalog=True,\n",
				"  transformation_ctx=\"s3output\",\n",
				")\n",
				"s3output.setCatalogInfo(\n",
				"  catalogDatabase=\"ecommerce\", catalogTableName=\"top_10_pedidos_dia\"\n",
				")\n",
				"s3output.setFormat(\"glueparquet\")\n",
				"s3output.writeFrame(dyfTop10)"
			]
		},
		{
			"cell_type": "markdown",
			"metadata": {},
			"source": [
				"Verifique no console **AWS Glue > Tables** que a tabela `top_10_pedidos_dia` foi criada."
			]
		},
		{
			"cell_type": "markdown",
			"metadata": {},
			"source": [
				"# Parabéns!\n",
				"Você concluiu a execução de um job Glue que pode ser empacotado e automatizado para execução periódica.<br>\n",
				"\n",
				"> Não esqueça de clicar no botão **Stop notebook** para evitar cobranças extras."
			]
		}
	],
	"metadata": {
		"kernelspec": {
			"display_name": "Glue PySpark",
			"language": "python",
			"name": "glue_pyspark"
		},
		"language_info": {
			"codemirror_mode": {
				"name": "python",
				"version": 3
			},
			"file_extension": ".py",
			"mimetype": "text/x-python",
			"name": "Python_Glue_Session",
			"pygments_lexer": "python3"
		},
		"toc-showtags": false
	},
	"nbformat": 4,
	"nbformat_minor": 4
}
