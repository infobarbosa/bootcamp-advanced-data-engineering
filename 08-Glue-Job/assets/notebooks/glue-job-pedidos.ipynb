{
	"cells": [
		{
			"cell_type": "markdown",
			"metadata": {
				"editable": true,
				"trusted": true
			},
			"source": [
				"# AWS Glue Studio Notebook\n",
				"\n",
				"Analise atentamente os comandos a seguir e execute-os em sequência.\n",
				"\n",
				"Caso você não tenha familiaridade com Jupyter notebooks, aqui está um mini tutorial para começar:\n",
				"\n",
				"**Para executar células**: Um notebook é composto por células. Cada célula pode conter código Python ou texto formatado. Para executar o código em uma célula, clique na célula para selecioná-la, depois pressione `Shift+Enter`. O resultado do código será exibido abaixo da célula.\n",
				"\n",
				"**Para adicionar novas células**: Você pode adicionar novas células clicando no botão \"+\" na barra de ferramentas na parte superior. A nova célula será adicionada abaixo da célula atualmente selecionada.\n",
				"\n",
				"**Salvar o notebook**: Você pode salvar o notebook clicando no botão de **Save** na parte superior.\n",
				"\n",
				"**Interromper o notebook**: Se quiser sair, não esqueça de interromper o notebook utilizando o botão **Stop notebook**. Isso garante que os recursos alocados para o notebook sejam liberados e você não seja cobrado por isso."
			]
		},
		{
			"cell_type": "markdown",
			"metadata": {
				"editable": true,
				"trusted": true
			},
			"source": [
				"### 1. Iniciando uma sessão interativa.\n"
			]
		},
		{
			"cell_type": "code",
			"execution_count": null,
			"metadata": {
				"editable": true,
				"trusted": true,
				"vscode": {
					"languageId": "python_glue_session"
				}
			},
			"outputs": [],
			"source": [
				"%idle_timeout 2880\n",
				"%glue_version 4.0\n",
				"%worker_type G.1X\n",
				"%number_of_workers 5\n",
				"\n",
				"import sys\n",
				"import boto3\n",
				"from awsglue.transforms import *\n",
				"from awsglue.utils import getResolvedOptions\n",
				"from pyspark.context import SparkContext\n",
				"from awsglue.context import GlueContext\n",
				"from awsglue.job import Job\n",
				"  \n",
				"\n",
				"print(\"Criando o contexto do Glue\")\n",
				"sc = SparkContext.getOrCreate()\n",
				"glueContext = GlueContext(sc)\n",
				"spark = glueContext.spark_session\n",
				"job = Job(glueContext)"
			]
		},
		{
			"cell_type": "markdown",
			"metadata": {},
			"source": [
				"### 2. Definindo a variável de ambiente `s3_bucket`"
			]
		},
		{
			"cell_type": "code",
			"execution_count": null,
			"metadata": {
				"vscode": {
					"languageId": "plaintext"
				}
			},
			"outputs": [],
			"source": [
				"print(\"Definindo a variável s3_bucket que vamos utilizar ao longo do código\")\n",
				"s3_bucket = \"\"\n",
				"s3_client = boto3.client('s3')\n",
				"response = s3_client.list_buckets()\n",
				"\n",
				"for bucket in response['Buckets']:\n",
				"    if bucket['Name'].startswith('lab-data-eng-'):\n",
				"        s3_bucket = bucket['Name']\n",
				"\n",
				"print(\"O bucket que vamos utilizar é: \" + s3_bucket)"
			]
		},
		{
			"cell_type": "markdown",
			"metadata": {
				"editable": true,
				"trusted": true
			},
			"source": [
				"### 3. Criando um DynamicFrame a partir de uma tabela do Glue Data Catalog\n"
			]
		},
		{
			"cell_type": "code",
			"execution_count": null,
			"metadata": {
				"editable": true,
				"trusted": true,
				"vscode": {
					"languageId": "python_glue_session"
				}
			},
			"outputs": [],
			"source": [
				"dyf = glueContext.create_dynamic_frame.from_catalog(database='ecommerce', table_name='pedidos')\n",
				"dyf.printSchema()"
			]
		},
		{
			"cell_type": "markdown",
			"metadata": {
				"editable": true,
				"trusted": true
			},
			"source": [
				"### 4. Convertendo o DynamicFrame para um Spark DataFrame e apresentando algumas linhas\n"
			]
		},
		{
			"cell_type": "code",
			"execution_count": null,
			"metadata": {
				"editable": true,
				"trusted": true,
				"vscode": {
					"languageId": "python_glue_session"
				}
			},
			"outputs": [],
			"source": [
				"df = dyf.toDF()\n",
				"df.show()"
			]
		},
		{
			"cell_type": "markdown",
			"metadata": {
				"editable": true,
				"trusted": true
			},
			"source": [
				"### 5. Escrevendo os dados do DynamicFrame em um local do S3 e atualizando o Glue Data Catalog"
			]
		},
		{
			"cell_type": "code",
			"execution_count": null,
			"metadata": {
				"editable": true,
				"trusted": true,
				"vscode": {
					"languageId": "python_glue_session"
				}
			},
			"outputs": [],
			"source": [
				"s3output = glueContext.getSink(\n",
				"  path=\"s3://\" + s3_bucket + \"/stage/ecommerce/pedidos/\",\n",
				"  connection_type=\"s3\",\n",
				"  updateBehavior=\"UPDATE_IN_DATABASE\",\n",
				"  partitionKeys=[],\n",
				"  compression=\"snappy\",\n",
				"  enableUpdateCatalog=True,\n",
				"  transformation_ctx=\"s3output\",\n",
				")\n",
				"s3output.setCatalogInfo(\n",
				"  catalogDatabase=\"ecommerce\", catalogTableName=\"pedidos_parquet\"\n",
				")\n",
				"s3output.setFormat(\"glueparquet\")\n",
				"s3output.writeFrame(dyf)"
			]
		}
	],
	"metadata": {
		"kernelspec": {
			"display_name": "Glue PySpark",
			"language": "python",
			"name": "glue_pyspark"
		},
		"language_info": {
			"codemirror_mode": {
				"name": "python",
				"version": 3
			},
			"file_extension": ".py",
			"mimetype": "text/x-python",
			"name": "Python_Glue_Session",
			"pygments_lexer": "python3"
		},
		"toc-showtags": false
	},
	"nbformat": 4,
	"nbformat_minor": 4
}
