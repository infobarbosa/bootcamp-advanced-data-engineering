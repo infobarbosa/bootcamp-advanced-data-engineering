{
	"cells": [
		{
			"cell_type": "markdown",
			"metadata": {
				"editable": true,
				"trusted": true
			},
			"source": [
				"# Desafio AWS Glue Job\n",
				"\n",
				"Analise atentamente os comandos a seguir e execute-os em sequência.\n",
				"\n",
				"#### Mini tutorial Jupyter Notebook\n",
				"Caso você não tenha familiaridade com Jupyter notebooks, aqui está um mini tutorial para começar:\n",
				"\n",
				"**Para executar células**: Um notebook é composto por células. Cada célula pode conter código Python ou texto formatado. Para executar o código em uma célula, clique na célula para selecioná-la, depois pressione `Shift+Enter`. O resultado do código será exibido abaixo da célula.\n",
				"\n",
				"**Para adicionar novas células**: Você pode adicionar novas células clicando no botão \"+\" na barra de ferramentas na parte superior. A nova célula será adicionada abaixo da célula atualmente selecionada.\n",
				"\n",
				"**Salvar o notebook**: Você pode salvar o notebook clicando no botão de **Save** na parte superior.\n",
				"\n",
				"**Interromper o notebook**: Se quiser sair, não esqueça de interromper o notebook utilizando o botão **Stop notebook**. Isso garante que os recursos alocados para o notebook sejam liberados e você não seja cobrado por isso."
			]
		},
		{
			"cell_type": "markdown",
			"metadata": {
				"editable": true,
				"trusted": true
			},
			"source": [
				"### 1. Iniciando uma sessão interativa.\n"
			]
		},
		{
			"cell_type": "code",
			"execution_count": null,
			"metadata": {
				"editable": true,
				"trusted": true,
				"vscode": {
					"languageId": "python_glue_session"
				}
			},
			"outputs": [],
			"source": [
				"%idle_timeout 2880\n",
				"%glue_version 4.0\n",
				"%worker_type G.1X\n",
				"%number_of_workers 5\n",
				"\n",
				"import sys\n",
				"import boto3\n",
				"import time\n",
				"from awsglue.transforms import *\n",
				"from pyspark.sql.functions import sum, col, desc\n",
				"from awsglue.utils import getResolvedOptions\n",
				"from pyspark.context import SparkContext\n",
				"from awsglue.context import GlueContext\n",
				"from awsglue.job import Job\n",
				"from awsglue.dynamicframe import DynamicFrame  \n",
				"\n",
				"print(\"Criando o contexto do Glue\")\n",
				"sc = SparkContext.getOrCreate()\n",
				"glueContext = GlueContext(sc)\n",
				"spark = glueContext.spark_session\n",
				"job = Job(glueContext)\n",
				"print(\"Contexto do Glue criado com sucesso\")"
			]
		},
		{
			"cell_type": "markdown",
			"metadata": {},
			"source": [
				"### 2. Definindo a variável de ambiente `s3_bucket`"
			]
		},
		{
			"cell_type": "code",
			"execution_count": null,
			"metadata": {
				"vscode": {
					"languageId": "plaintext"
				}
			},
			"outputs": [],
			"source": [
				"print(\"Definindo a variável s3_bucket que vamos utilizar ao longo do código\")\n",
				"s3_bucket = \"\"\n",
				"s3_client = boto3.client('s3')\n",
				"response = s3_client.list_buckets()\n",
				"\n",
				"for bucket in response['Buckets']:\n",
				"    if bucket['Name'].startswith('lab-data-eng-'):\n",
				"        s3_bucket = bucket['Name']\n",
				"\n",
				"print(\"O bucket que vamos utilizar é: \" + s3_bucket)"
			]
		},
		{
			"cell_type": "markdown",
			"metadata": {
				"editable": true,
				"trusted": true
			},
			"source": [
				"### 3. Criando um DynamicFrame a partir de uma tabela do Glue Data Catalog\n"
			]
		},
		{
			"cell_type": "code",
			"execution_count": null,
			"metadata": {
				"vscode": {
					"languageId": "plaintext"
				}
			},
			"outputs": [],
			"source": [
				"dyfPagamentos = glueContext.create_dynamic_frame.from_catalog(database='bolsafamilia', table_name='raw_pagamentos')"
			]
		},
		{
			"cell_type": "code",
			"execution_count": null,
			"metadata": {
				"vscode": {
					"languageId": "plaintext"
				}
			},
			"outputs": [],
			"source": [
				"dyfPagamentos.printSchema()"
			]
		},
		{
			"cell_type": "markdown",
			"metadata": {
				"editable": true,
				"trusted": true
			},
			"source": [
				"### 4. Apresentando algumas linhas"
			]
		},
		{
			"cell_type": "code",
			"execution_count": null,
			"metadata": {
				"vscode": {
					"languageId": "python_glue_session"
				}
			},
			"outputs": [],
			"source": [
				"dyfPagamentos.toDF().show(5)"
			]
		},
		{
			"cell_type": "markdown",
			"metadata": {
				"editable": true,
				"trusted": true
			},
			"source": [
				"### 5. Escrevendo os dados no S3 e criando a tabela `pagamentos_parquet` no Glue Data Catalog"
			]
		},
		{
			"cell_type": "code",
			"execution_count": null,
			"metadata": {
				"vscode": {
					"languageId": "plaintext"
				}
			},
			"outputs": [],
			"source": [
				"# Primeiro vamos limpar a pasta destino\n",
				"response = s3_client.list_objects_v2(Bucket=s3_bucket, Prefix='stage/bolsafamilia/pagamentos/')\n",
				"\n",
				"for object in response['Contents']:\n",
				"    out = s3_client.delete_object(Bucket=s3_bucket, Key=object['Key'])"
			]
		},
		{
			"cell_type": "code",
			"execution_count": null,
			"metadata": {
				"vscode": {
					"languageId": "python_glue_session"
				}
			},
			"outputs": [],
			"source": [
				"s3output = glueContext.getSink(\n",
				"  path=\"s3://\" + s3_bucket + \"/stage/bolsafamilia/pagamentos/\",\n",
				"  connection_type=\"s3\",\n",
				"  updateBehavior=\"UPDATE_IN_DATABASE\",\n",
				"  partitionKeys=[\"mes_competencia\", \"uf\"],\n",
				"  compression=\"snappy\",\n",
				"  enableUpdateCatalog=True,\n",
				"  transformation_ctx=\"s3output\",\n",
				")\n",
				"s3output.setCatalogInfo(\n",
				"  catalogDatabase=\"bolsafamilia\", catalogTableName=\"pagamentos_parquet\"\n",
				")\n",
				"s3output.setFormat(\"glueparquet\")\n",
				"s3output.writeFrame(dyfPagamentos)"
			]
		},
		{
			"cell_type": "markdown",
			"metadata": {},
			"source": [
				"### 6. Verificando os arquivos Parquet gerados"
			]
		},
		{
			"cell_type": "code",
			"execution_count": null,
			"metadata": {
				"vscode": {
					"languageId": "plaintext"
				}
			},
			"outputs": [],
			"source": [
				"session = boto3.Session()\n",
				"s3 = session.resource('s3')\n",
				"lab_eng_bucket = s3.Bucket(s3_bucket)\n",
				"\n",
				"print(\"Arquivos de pagamentos em stage\")\n",
				"for clientes_object in lab_eng_bucket.objects.filter(Prefix=\"stage/bolsafamilia/pagamentos/\"):\n",
				"    print(clientes_object.key)"
			]
		},
		{
			"cell_type": "markdown",
			"metadata": {},
			"source": [
				"### 7. Verificando a criação da tabela `pagamentos_parquet`\n",
				"\n",
				"> ##### Atenção!\n",
				"> Normalmente esse tipo de verificação visual não fica dentro do job. Neste laboratório só incluí por comodidade."
			]
		},
		{
			"cell_type": "code",
			"execution_count": null,
			"metadata": {
				"vscode": {
					"languageId": "plaintext"
				}
			},
			"outputs": [],
			"source": [
				"!aws glue get-tables --database-name 'bolsafamilia'  --query \"TableList[].Name\""
			]
		},
		{
			"cell_type": "markdown",
			"metadata": {},
			"source": [
				"### 8. Relatório consolidado por Competência + UF"
			]
		},
		{
			"cell_type": "markdown",
			"metadata": {},
			"source": [
				"##### Criando os dynamicframes"
			]
		},
		{
			"cell_type": "code",
			"execution_count": null,
			"metadata": {
				"vscode": {
					"languageId": "plaintext"
				}
			},
			"outputs": [],
			"source": [
				"dyfPagamentos = glueContext.create_dynamic_frame.from_catalog(database='bolsafamilia', table_name='pagamentos_parquet')"
			]
		},
		{
			"cell_type": "code",
			"execution_count": null,
			"metadata": {
				"vscode": {
					"languageId": "plaintext"
				}
			},
			"outputs": [],
			"source": [
				"dyfPagamentos.printSchema()"
			]
		},
		{
			"cell_type": "code",
			"execution_count": null,
			"metadata": {
				"vscode": {
					"languageId": "plaintext"
				}
			},
			"outputs": [],
			"source": [
				"dyfPagamentos.toDF().show(5)"
			]
		},
		{
			"cell_type": "markdown",
			"metadata": {},
			"source": [
				"##### Tratamento do dataframe `dyfPagamentos`\n",
				"\n",
				"Eliminando atributos desnecessários nesta operação"
			]
		},
		{
			"cell_type": "code",
			"execution_count": null,
			"metadata": {
				"vscode": {
					"languageId": "plaintext"
				}
			},
			"outputs": [],
			"source": [
				"dyfPagamentos = dyfPagamentos.drop_fields([\"mes_referencia\",\"codigo_municipio_siafi\",\"municipio\",\"cpf\",\"nis\",\"favorecido\"])"
			]
		},
		{
			"cell_type": "code",
			"execution_count": null,
			"metadata": {
				"vscode": {
					"languageId": "plaintext"
				}
			},
			"outputs": [],
			"source": [
				"dyfPagamentos.toDF().show(5)"
			]
		},
		{
			"cell_type": "markdown",
			"metadata": {},
			"source": [
				"##### Calculando o valor consolidado de pagamentos por competência e estado"
			]
		},
		{
			"cell_type": "code",
			"execution_count": null,
			"metadata": {
				"vscode": {
					"languageId": "plaintext"
				}
			},
			"outputs": [],
			"source": [
				"# Converte para dataframe\n",
				"dfPagamentos = dyfPagamentos.toDF()"
			]
		},
		{
			"cell_type": "code",
			"execution_count": null,
			"metadata": {
				"vscode": {
					"languageId": "plaintext"
				}
			},
			"outputs": [],
			"source": [
				"dfConsolidado = dfPagamentos.groupBy(\"mes_competencia\", \"uf\") \\\n",
				"        .agg(sum(\"valor\").alias(\"valor_total\")) \\\n",
				"        .sort(desc(\"valor_total\")) "
			]
		},
		{
			"cell_type": "markdown",
			"metadata": {},
			"source": [
				"##### Salvando o resultado em uma tabela `tb_consolidado_pagamentos_competencia_uf` para reuso"
			]
		},
		{
			"cell_type": "code",
			"execution_count": null,
			"metadata": {
				"vscode": {
					"languageId": "plaintext"
				}
			},
			"outputs": [],
			"source": [
				"# Primeiro vamos limpar a pasta destino\n",
				"response = s3_client.list_objects_v2(Bucket=s3_bucket, Prefix='analytics/bolsafamilia/relatorios/consolidado_pagamentos_competencia_uf/')\n",
				"\n",
				"for object in response['Contents']:\n",
				"    out = s3_client.delete_object(Bucket=s3_bucket, Key=object['Key'])"
			]
		},
		{
			"cell_type": "code",
			"execution_count": null,
			"metadata": {
				"vscode": {
					"languageId": "plaintext"
				}
			},
			"outputs": [],
			"source": [
				"dyfConsolidado = DynamicFrame.fromDF(dfConsolidado, glueContext, \"dyfConsolidado\")\n",
				"\n",
				"s3output = glueContext.getSink(\n",
				"  path=\"s3://\" + s3_bucket + \"/analytics/bolsafamilia/relatorios/consolidado_pagamentos_competencia_uf/\",\n",
				"  connection_type=\"s3\",\n",
				"  updateBehavior=\"UPDATE_IN_DATABASE\",\n",
				"  partitionKeys=[],\n",
				"  compression=\"snappy\",\n",
				"  enableUpdateCatalog=True,\n",
				"  transformation_ctx=\"s3output\",\n",
				")\n",
				"s3output.setCatalogInfo(\n",
				"  catalogDatabase=\"bolsafamilia\", catalogTableName=\"tb_consolidado_pagamentos_competencia_uf\"\n",
				")\n",
				"s3output.setFormat(\"glueparquet\")\n",
				"s3output.writeFrame(dyfConsolidado)"
			]
		},
		{
			"cell_type": "markdown",
			"metadata": {},
			"source": [
				"# Parabéns!\n",
				"Você concluiu a execução de um job Glue que pode ser empacotado e automatizado para execução periódica.<br>\n",
				"\n",
				"> Não esqueça de clicar no botão **Stop notebook** para evitar cobranças extras."
			]
		}
	],
	"metadata": {
		"kernelspec": {
			"display_name": "Glue PySpark",
			"language": "python",
			"name": "glue_pyspark"
		},
		"language_info": {
			"codemirror_mode": {
				"name": "python",
				"version": 3
			},
			"file_extension": ".py",
			"mimetype": "text/x-python",
			"name": "Python_Glue_Session",
			"pygments_lexer": "python3"
		},
		"toc-showtags": false
	},
	"nbformat": 4,
	"nbformat_minor": 4
}
